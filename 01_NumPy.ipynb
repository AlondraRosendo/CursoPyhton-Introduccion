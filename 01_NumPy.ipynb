{
 "cells": [
  {
   "cell_type": "markdown",
   "id": "7f82a138",
   "metadata": {},
   "source": [
    "# Introducción a Numpy"
   ]
  },
  {
   "cell_type": "markdown",
   "id": "7386ab26",
   "metadata": {},
   "source": [
    "[NumPy](https://numpy.org/) es una librería fundamental para la computación\n",
    "* Proporciona Arreglos N-dimencionales.\n",
    "* Implementa funciones matemáticas sofisticadas.\n",
    "* Proporciona mecanismos para facilitar la realización de tareas relacionadas con algebra lineal o números aleatorios."
   ]
  },
  {
   "cell_type": "markdown",
   "id": "686667d7",
   "metadata": {},
   "source": [
    "# Imports"
   ]
  },
  {
   "cell_type": "code",
   "execution_count": 1,
   "id": "aefbd9bf",
   "metadata": {},
   "outputs": [],
   "source": [
    "import numpy as np"
   ]
  },
  {
   "cell_type": "markdown",
   "id": "ed4aa13a",
   "metadata": {},
   "source": [
    "## Arrays"
   ]
  },
  {
   "cell_type": "markdown",
   "id": "1c9e1b12",
   "metadata": {},
   "source": [
    "Un **array** es una estructura de datos que consiste en una colección de elementos(valores o variables), cada uno identificado por al menos un indice o clave. Un arrray se almacena de modo que la posición de cada elemento se pueda calcular a partir de su tupla de índice mediante una fórmula matemática. El tipo más simpe de array es un array lineal tambien llamado array unidimencional."
   ]
  },
  {
   "cell_type": "markdown",
   "id": "3d32bafa",
   "metadata": {},
   "source": [
    "En NumPy:\n",
    "* Cada dimensión se denomina **Axis**.\n",
    "* El número de dimensiones se denomina **rank**\n",
    "* La lista de dimensiones con su correspondiente longitud se denomina **shape**\n",
    "* El número total de elementos (multiplicación de la longitud de las dimensiones) se denomina **size**."
   ]
  },
  {
   "cell_type": "code",
   "execution_count": 2,
   "id": "39ef69c1",
   "metadata": {},
   "outputs": [
    {
     "data": {
      "text/plain": [
       "array([[0., 0., 0., 0.],\n",
       "       [0., 0., 0., 0.]])"
      ]
     },
     "execution_count": 2,
     "metadata": {},
     "output_type": "execute_result"
    }
   ],
   "source": [
    "# Array cuyos valores son todos 0.\n",
    "a = np.zeros((2, 4))\n",
    "a"
   ]
  },
  {
   "cell_type": "markdown",
   "id": "39559dad",
   "metadata": {},
   "source": [
    "_**a**_ es un array:\n",
    "* Con dos **axis**, el primero de longitud 2 y segundo de longitud 4\n",
    "* Con un **rank** igual a 2.\n",
    "* Con un **shape** igual (2, 4).\n",
    "* Con un  **size** igual a 8"
   ]
  },
  {
   "cell_type": "code",
   "execution_count": 3,
   "id": "c9e7e289",
   "metadata": {},
   "outputs": [
    {
     "data": {
      "text/plain": [
       "(2, 4)"
      ]
     },
     "execution_count": 3,
     "metadata": {},
     "output_type": "execute_result"
    }
   ],
   "source": [
    "a.shape"
   ]
  },
  {
   "cell_type": "code",
   "execution_count": 4,
   "id": "35c03428",
   "metadata": {},
   "outputs": [
    {
     "data": {
      "text/plain": [
       "2"
      ]
     },
     "execution_count": 4,
     "metadata": {},
     "output_type": "execute_result"
    }
   ],
   "source": [
    "a.ndim"
   ]
  },
  {
   "cell_type": "code",
   "execution_count": 5,
   "id": "490fd13b",
   "metadata": {},
   "outputs": [
    {
     "data": {
      "text/plain": [
       "8"
      ]
     },
     "execution_count": 5,
     "metadata": {},
     "output_type": "execute_result"
    }
   ],
   "source": [
    "a.size"
   ]
  },
  {
   "cell_type": "markdown",
   "id": "9b518c90",
   "metadata": {},
   "source": [
    "## Creación de arrays."
   ]
  },
  {
   "cell_type": "code",
   "execution_count": 6,
   "id": "4da72966",
   "metadata": {},
   "outputs": [
    {
     "data": {
      "text/plain": [
       "array([[[0., 0., 0., 0.],\n",
       "        [0., 0., 0., 0.],\n",
       "        [0., 0., 0., 0.]],\n",
       "\n",
       "       [[0., 0., 0., 0.],\n",
       "        [0., 0., 0., 0.],\n",
       "        [0., 0., 0., 0.]]])"
      ]
     },
     "execution_count": 6,
     "metadata": {},
     "output_type": "execute_result"
    }
   ],
   "source": [
    "# Array cuyos valores son todos 0\n",
    "np.zeros((2, 3, 4))"
   ]
  },
  {
   "cell_type": "code",
   "execution_count": 7,
   "id": "d9025286",
   "metadata": {},
   "outputs": [
    {
     "data": {
      "text/plain": [
       "array([[[1., 1., 1., 1.],\n",
       "        [1., 1., 1., 1.],\n",
       "        [1., 1., 1., 1.]],\n",
       "\n",
       "       [[1., 1., 1., 1.],\n",
       "        [1., 1., 1., 1.],\n",
       "        [1., 1., 1., 1.]]])"
      ]
     },
     "execution_count": 7,
     "metadata": {},
     "output_type": "execute_result"
    }
   ],
   "source": [
    "# Array cuyos valores son todos 1.\n",
    "np.ones((2, 3, 4))"
   ]
  },
  {
   "cell_type": "code",
   "execution_count": 8,
   "id": "b059cf41",
   "metadata": {},
   "outputs": [
    {
     "data": {
      "text/plain": [
       "array([[[2.20534348e-316, 0.00000000e+000, 6.94078963e-310,\n",
       "         6.94079375e-310, 6.94078964e-310, 6.94078963e-310,\n",
       "         6.94078963e-310, 6.94078964e-310, 6.94079331e-310],\n",
       "        [6.94078964e-310, 6.94078963e-310, 6.94079372e-310,\n",
       "         6.94078964e-310, 6.94078963e-310, 6.94078964e-310,\n",
       "         6.94079362e-310, 6.94078964e-310, 6.94078964e-310],\n",
       "        [6.94078964e-310, 6.94078964e-310, 6.94078964e-310,\n",
       "         6.94078963e-310, 6.94078963e-310, 6.94079266e-310,\n",
       "         6.94078964e-310, 6.94078963e-310, 6.94079463e-310]],\n",
       "\n",
       "       [[6.94079463e-310, 6.94079462e-310, 6.94079372e-310,\n",
       "         6.94078964e-310, 6.94078971e-310, 6.94078971e-310,\n",
       "         6.94078964e-310, 6.94078964e-310, 6.94078964e-310],\n",
       "        [6.94078964e-310, 6.94079364e-310, 6.94078964e-310,\n",
       "         6.94079461e-310, 6.94078964e-310, 6.94079376e-310,\n",
       "         6.94078964e-310, 6.94079273e-310, 6.94079462e-310],\n",
       "        [6.94078964e-310, 6.94078964e-310, 6.94078964e-310,\n",
       "         6.94078964e-310, 6.94078963e-310, 6.94078963e-310,\n",
       "         6.94078964e-310, 6.94078964e-310, 6.94078964e-310]]])"
      ]
     },
     "execution_count": 8,
     "metadata": {},
     "output_type": "execute_result"
    }
   ],
   "source": [
    "# El resultado de np.empty no es predecible\n",
    "# Inicializa los valores del array con lo que haya en memoria en ese momento\n",
    "np.empty((2, 3,9))"
   ]
  },
  {
   "cell_type": "code",
   "execution_count": 9,
   "id": "618320d5",
   "metadata": {},
   "outputs": [
    {
     "data": {
      "text/plain": [
       "array([[1, 2, 3],\n",
       "       [4, 5, 6]])"
      ]
     },
     "execution_count": 9,
     "metadata": {},
     "output_type": "execute_result"
    }
   ],
   "source": [
    "# Inicializar un array utilizando array de Python.\n",
    "b = np.array([[1, 2, 3], [4, 5, 6]])\n",
    "b"
   ]
  },
  {
   "cell_type": "code",
   "execution_count": 10,
   "id": "bc5e4a49",
   "metadata": {},
   "outputs": [
    {
     "data": {
      "text/plain": [
       "(2, 3)"
      ]
     },
     "execution_count": 10,
     "metadata": {},
     "output_type": "execute_result"
    }
   ],
   "source": [
    "b.shape"
   ]
  },
  {
   "cell_type": "code",
   "execution_count": 11,
   "id": "220977a8",
   "metadata": {},
   "outputs": [
    {
     "name": "stdout",
     "output_type": "stream",
     "text": [
      "[0.         0.66666667 1.33333333 2.         2.66666667 3.33333333\n",
      " 4.         4.66666667 5.33333333 6.        ]\n"
     ]
    }
   ],
   "source": [
    "# Crear un array utilizando una función basada en rangos\n",
    "# (Minimo, Máximo, No. elementos de Array).\n",
    "print(np.linspace(0, 6, 10))"
   ]
  },
  {
   "cell_type": "code",
   "execution_count": 12,
   "id": "d55bfb98",
   "metadata": {},
   "outputs": [
    {
     "data": {
      "text/plain": [
       "array([[[0.83010861, 0.52160795, 0.65596723, 0.09836533],\n",
       "        [0.72707793, 0.99749586, 0.22302161, 0.76318542],\n",
       "        [0.25502168, 0.00801537, 0.50049448, 0.1754833 ]],\n",
       "\n",
       "       [[0.87609289, 0.98022881, 0.05723894, 0.24564718],\n",
       "        [0.6004455 , 0.85579531, 0.80862306, 0.82746023],\n",
       "        [0.20879037, 0.00943136, 0.20365402, 0.97141433]]])"
      ]
     },
     "execution_count": 12,
     "metadata": {},
     "output_type": "execute_result"
    }
   ],
   "source": [
    "# Inicializar un array con números Pseudo-aleatorios.\n",
    "np.random.rand(2, 3, 4)"
   ]
  },
  {
   "cell_type": "code",
   "execution_count": 13,
   "id": "475d536f",
   "metadata": {},
   "outputs": [
    {
     "data": {
      "text/plain": [
       "array([[0.13037624, 0.93604001, 0.96301475, 0.10417118],\n",
       "       [0.63413307, 0.23350903, 0.74095416, 0.27998497]])"
      ]
     },
     "execution_count": 13,
     "metadata": {},
     "output_type": "execute_result"
    }
   ],
   "source": [
    "# Inicializar un array con valores aleatorios conforme a una distribución normal\n",
    "np.random.rand(2,4)"
   ]
  },
  {
   "cell_type": "code",
   "execution_count": 14,
   "id": "4004d9c5",
   "metadata": {},
   "outputs": [
    {
     "data": {
      "image/png": "[encoded data removed]",
      "text/plain": [
       "<Figure size 640x480 with 1 Axes>"
      ]
     },
     "metadata": {},
     "output_type": "display_data"
    }
   ],
   "source": [
    "%matplotlib inline\n",
    "import matplotlib.pyplot as plt\n",
    "c = np.random.randn(10000000)\n",
    "\n",
    "plt.hist(c, bins=200)\n",
    "plt.show()"
   ]
  },
  {
   "cell_type": "code",
   "execution_count": 15,
   "id": "f9013090",
   "metadata": {},
   "outputs": [
    {
     "data": {
      "text/plain": [
       "array([[ 0.,  2.,  4.,  6.,  8.],\n",
       "       [ 1.,  3.,  5.,  7.,  9.],\n",
       "       [ 2.,  4.,  6.,  8., 10.]])"
      ]
     },
     "execution_count": 15,
     "metadata": {},
     "output_type": "execute_result"
    }
   ],
   "source": [
    "# Inicializar un array utilizando una función personalizada \n",
    "def func(x, y):\n",
    "    return x + 2 * y\n",
    "\n",
    "np.fromfunction(func, (3, 5))"
   ]
  },
  {
   "cell_type": "markdown",
   "id": "2fc8510d",
   "metadata": {},
   "source": [
    "# Acceder a los elementos del Array."
   ]
  },
  {
   "cell_type": "markdown",
   "id": "3d627a30",
   "metadata": {},
   "source": [
    "### Array unidimensional"
   ]
  },
  {
   "cell_type": "code",
   "execution_count": 16,
   "id": "0668006f",
   "metadata": {},
   "outputs": [
    {
     "name": "stdout",
     "output_type": "stream",
     "text": [
      "Shape:  (6,)\n",
      "Array_uni:  [ 1  3  5  7  9 11]\n"
     ]
    }
   ],
   "source": [
    "# Crear un array unidimencional\n",
    "array_uni = np.array([1, 3, 5, 7, 9, 11])\n",
    "print(\"Shape: \", array_uni.shape)\n",
    "print(\"Array_uni: \", array_uni)"
   ]
  },
  {
   "cell_type": "code",
   "execution_count": 17,
   "id": "eb0ec0cf",
   "metadata": {},
   "outputs": [
    {
     "data": {
      "text/plain": [
       "9"
      ]
     },
     "execution_count": 17,
     "metadata": {},
     "output_type": "execute_result"
    }
   ],
   "source": [
    "# Acceder al 5to elemento del array\n",
    "array_uni[4]"
   ]
  },
  {
   "cell_type": "code",
   "execution_count": 18,
   "id": "d719839d",
   "metadata": {},
   "outputs": [
    {
     "data": {
      "text/plain": [
       "array([5, 7])"
      ]
     },
     "execution_count": 18,
     "metadata": {},
     "output_type": "execute_result"
    }
   ],
   "source": [
    "# Acceder al tercer elemento del array\n",
    "array_uni[2:4]"
   ]
  },
  {
   "cell_type": "code",
   "execution_count": 19,
   "id": "9993dcf4",
   "metadata": {},
   "outputs": [
    {
     "data": {
      "text/plain": [
       "array([1, 5, 9])"
      ]
     },
     "execution_count": 19,
     "metadata": {},
     "output_type": "execute_result"
    }
   ],
   "source": [
    "# Acceder a los elementos del array 0,3 y 5\n",
    "array_uni[0::2]"
   ]
  },
  {
   "cell_type": "markdown",
   "id": "868c1706",
   "metadata": {},
   "source": [
    "### Array Multidimencional"
   ]
  },
  {
   "cell_type": "code",
   "execution_count": 20,
   "id": "f11b83b1",
   "metadata": {},
   "outputs": [
    {
     "name": "stdout",
     "output_type": "stream",
     "text": [
      "Shape:  (2, 4)\n",
      "Array_multi:  [[1 2 3 4]\n",
      " [5 6 7 8]]\n"
     ]
    }
   ],
   "source": [
    "# Crear un Array multidimencional\n",
    "array_multi = np.array([[1, 2, 3, 4], [5, 6, 7, 8]])\n",
    "print(\"Shape: \", array_multi.shape)\n",
    "print(\"Array_multi: \", array_multi)"
   ]
  },
  {
   "cell_type": "code",
   "execution_count": 21,
   "id": "dd3ca748",
   "metadata": {},
   "outputs": [
    {
     "data": {
      "text/plain": [
       "4"
      ]
     },
     "execution_count": 21,
     "metadata": {},
     "output_type": "execute_result"
    }
   ],
   "source": [
    "# Acceder al cuarto elemento del array\n",
    "array_multi[0, 3]"
   ]
  },
  {
   "cell_type": "code",
   "execution_count": 22,
   "id": "79e397b8",
   "metadata": {},
   "outputs": [
    {
     "data": {
      "text/plain": [
       "array([5, 6, 7, 8])"
      ]
     },
     "execution_count": 22,
     "metadata": {},
     "output_type": "execute_result"
    }
   ],
   "source": [
    "# Acceder a la segunda fila del array\n",
    "array_multi[1, :]"
   ]
  },
  {
   "cell_type": "code",
   "execution_count": 23,
   "id": "e195e931",
   "metadata": {},
   "outputs": [
    {
     "data": {
      "text/plain": [
       "array([3, 7])"
      ]
     },
     "execution_count": 23,
     "metadata": {},
     "output_type": "execute_result"
    }
   ],
   "source": [
    "# Acceder al tercer elemento de las dos dimenciones del array\n",
    "array_multi[0:2,2]"
   ]
  },
  {
   "cell_type": "markdown",
   "id": "7fc862fd",
   "metadata": {},
   "source": [
    "## Modificación del array"
   ]
  },
  {
   "cell_type": "raw",
   "id": "19a98261",
   "metadata": {},
   "source": [
    "# Crear un array unidimencional e iniciarlo con el rango de elementos del 0 al 27\n",
    "array1 = np.arange(28)\n",
    "print(\"Shape: \", array1.shape)\n",
    "print(\"Array 1: \", array1)"
   ]
  },
  {
   "cell_type": "code",
   "execution_count": 24,
   "id": "8b6c72f5",
   "metadata": {},
   "outputs": [
    {
     "ename": "NameError",
     "evalue": "name 'array1' is not defined",
     "output_type": "error",
     "traceback": [
      "\u001b[0;31m---------------------------------------------------------------------------\u001b[0m",
      "\u001b[0;31mNameError\u001b[0m                                 Traceback (most recent call last)",
      "Cell \u001b[0;32mIn[24], line 2\u001b[0m\n\u001b[1;32m      1\u001b[0m \u001b[38;5;66;03m# Cambiar las dimensiones del array y sus longitudes\u001b[39;00m\n\u001b[0;32m----> 2\u001b[0m \u001b[43marray1\u001b[49m\u001b[38;5;241m.\u001b[39mshape \u001b[38;5;241m=\u001b[39m (\u001b[38;5;241m7\u001b[39m, \u001b[38;5;241m4\u001b[39m)\n\u001b[1;32m      3\u001b[0m \u001b[38;5;28mprint\u001b[39m(\u001b[38;5;124m\"\u001b[39m\u001b[38;5;124mShape: \u001b[39m\u001b[38;5;124m\"\u001b[39m, array1\u001b[38;5;241m.\u001b[39mshape)\n\u001b[1;32m      4\u001b[0m \u001b[38;5;28mprint\u001b[39m(\u001b[38;5;124m\"\u001b[39m\u001b[38;5;124mArray 1: \u001b[39m\u001b[38;5;124m\"\u001b[39m, array1)\n",
      "\u001b[0;31mNameError\u001b[0m: name 'array1' is not defined"
     ]
    }
   ],
   "source": [
    "# Cambiar las dimensiones del array y sus longitudes\n",
    "array1.shape = (7, 4)\n",
    "print(\"Shape: \", array1.shape)\n",
    "print(\"Array 1: \", array1)"
   ]
  },
  {
   "cell_type": "code",
   "execution_count": null,
   "id": "df7966c8",
   "metadata": {},
   "outputs": [],
   "source": [
    "# El ejemplo anterior devuelve un array que apunta a los mismos datos.\n",
    "# Importante: las modificaciones en un array modifican el otro array.\n",
    "#reshape: redimenciona una matriz\n",
    "array2 = array1.reshape(4,7)\n",
    "print(\"Shape: \", array2.shape)\n",
    "print(\"Array 2: \", array2)"
   ]
  },
  {
   "cell_type": "code",
   "execution_count": null,
   "id": "b56d45a1",
   "metadata": {},
   "outputs": [],
   "source": [
    "# Modificar el nuevo arreglo\n",
    "array2[0,3] = 20\n",
    "print(\"Array2:\\n\", array2)"
   ]
  },
  {
   "cell_type": "code",
   "execution_count": null,
   "id": "02b173fd",
   "metadata": {},
   "outputs": [],
   "source": [
    "print(\"Array1:\\n\", array1)"
   ]
  },
  {
   "cell_type": "code",
   "execution_count": null,
   "id": "1ee5bd01",
   "metadata": {},
   "outputs": [],
   "source": [
    "# Regresar el array a su estado original\n",
    "# Nota el nuevo array apunta a los mismos datos\n",
    "#ravel: regresar el arreglo a su estado original\n",
    "print(\"Array1:\\n\", array1.ravel())"
   ]
  },
  {
   "cell_type": "markdown",
   "id": "bf532ff5",
   "metadata": {},
   "source": [
    "# Operaciones aritmeticas con Arrays"
   ]
  },
  {
   "cell_type": "code",
   "execution_count": null,
   "id": "99a5f59c",
   "metadata": {},
   "outputs": [],
   "source": [
    "# Crear d2 arrays Unidimensionales.\n",
    "array1 = np.arange(2, 18, 2)\n",
    "array2 = np.arange(8)\n",
    "print(\"Array 1: \", array1)\n",
    "print(\"Array 2: \", array2)\n"
   ]
  },
  {
   "cell_type": "code",
   "execution_count": null,
   "id": "b31b4dda",
   "metadata": {},
   "outputs": [],
   "source": [
    "#Suma\n",
    "print(array1 + array2)"
   ]
  },
  {
   "cell_type": "code",
   "execution_count": null,
   "id": "3e8b210d",
   "metadata": {},
   "outputs": [],
   "source": [
    "# Resta\n",
    "print(array1 - array2)"
   ]
  },
  {
   "cell_type": "code",
   "execution_count": 25,
   "id": "44c6fdfa",
   "metadata": {},
   "outputs": [
    {
     "ename": "NameError",
     "evalue": "name 'array1' is not defined",
     "output_type": "error",
     "traceback": [
      "\u001b[0;31m---------------------------------------------------------------------------\u001b[0m",
      "\u001b[0;31mNameError\u001b[0m                                 Traceback (most recent call last)",
      "Cell \u001b[0;32mIn[25], line 3\u001b[0m\n\u001b[1;32m      1\u001b[0m \u001b[38;5;66;03m#Multiplicacion\u001b[39;00m\n\u001b[1;32m      2\u001b[0m \u001b[38;5;66;03m# nota: no es una multiplicacion de matrices\u001b[39;00m\n\u001b[0;32m----> 3\u001b[0m \u001b[38;5;28mprint\u001b[39m(\u001b[43marray1\u001b[49m \u001b[38;5;241m*\u001b[39m array2)\n",
      "\u001b[0;31mNameError\u001b[0m: name 'array1' is not defined"
     ]
    }
   ],
   "source": [
    "#Multiplicacion\n",
    "# nota: no es una multiplicacion de matrices\n",
    "print(array1 * array2)"
   ]
  },
  {
   "cell_type": "markdown",
   "id": "02593c38",
   "metadata": {},
   "source": [
    "# Broadcasting"
   ]
  },
  {
   "cell_type": "markdown",
   "id": "fa69213d",
   "metadata": {},
   "source": [
    "Si se aplican operaciones aritmeticas sobre arrays que no tienen la misma forma(Shape) Numpy aplica una propiedad que se le conoce como **Broadcasting"
   ]
  },
  {
   "cell_type": "code",
   "execution_count": 28,
   "id": "0bc4ddf3",
   "metadata": {},
   "outputs": [
    {
     "name": "stdout",
     "output_type": "stream",
     "text": [
      "Shape array 1:  (5,)\n",
      "Array 1:  [0 1 2 3 4]\n",
      "\n",
      "Shape array 2:  (1,)\n",
      "Array 2:  [3]\n"
     ]
    }
   ],
   "source": [
    "#Crear dos arrays unidimensionales \n",
    "array1 = np.arange(5)\n",
    "array2 = np.array([3])\n",
    "print(\"Shape array 1: \",array1.shape)\n",
    "print(\"Array 1: \",array1)\n",
    "print()\n",
    "print(\"Shape array 2: \",array2.shape)\n",
    "print(\"Array 2: \",array2)"
   ]
  },
  {
   "cell_type": "code",
   "execution_count": 30,
   "id": "edb9e156",
   "metadata": {},
   "outputs": [
    {
     "data": {
      "text/plain": [
       "array([3, 4, 5, 6, 7])"
      ]
     },
     "execution_count": 30,
     "metadata": {},
     "output_type": "execute_result"
    }
   ],
   "source": [
    "# Suma\n",
    "array1 + array2"
   ]
  },
  {
   "cell_type": "code",
   "execution_count": 31,
   "id": "f1c8c884",
   "metadata": {},
   "outputs": [
    {
     "name": "stdout",
     "output_type": "stream",
     "text": [
      "Shape array 1:  (2, 3)\n",
      "Array 1:  [[0 1 2]\n",
      " [3 4 5]]\n",
      "\n",
      "Shape array 2:  (3,)\n",
      "Array 2:  [ 6 10 14]\n"
     ]
    }
   ],
   "source": [
    "# Crear dos arreglos Multidimencional y Unidimencional\n",
    "array1 = np.arange(6)\n",
    "array1.shape = (2, 3)\n",
    "array2 = np.arange(6, 18, 4)\n",
    "print(\"Shape array 1: \",array1.shape)\n",
    "print(\"Array 1: \",array1)\n",
    "print()\n",
    "print(\"Shape array 2: \",array2.shape)\n",
    "print(\"Array 2: \",array2)\n"
   ]
  },
  {
   "cell_type": "code",
   "execution_count": 32,
   "id": "9e1100ba",
   "metadata": {},
   "outputs": [
    {
     "data": {
      "text/plain": [
       "array([[ 6, 11, 16],\n",
       "       [ 9, 14, 19]])"
      ]
     },
     "execution_count": 32,
     "metadata": {},
     "output_type": "execute_result"
    }
   ],
   "source": [
    "# Suma de ambos arrays\n",
    "array1 + array2"
   ]
  },
  {
   "cell_type": "markdown",
   "id": "d2ee0d3d",
   "metadata": {},
   "source": [
    "# Funciones estadíticas sobre Arrays"
   ]
  },
  {
   "cell_type": "code",
   "execution_count": 33,
   "id": "57b27148",
   "metadata": {},
   "outputs": [
    {
     "name": "stdout",
     "output_type": "stream",
     "text": [
      "Array 1:  [ 2  4  6  8 10 12 14 16]\n"
     ]
    }
   ],
   "source": [
    "# Creación de un array unidimencional\n",
    "array1 = np.arange(2, 18, 2)\n",
    "print(\"Array 1: \", array1)"
   ]
  },
  {
   "cell_type": "code",
   "execution_count": 34,
   "id": "0dc9b95f",
   "metadata": {},
   "outputs": [
    {
     "data": {
      "text/plain": [
       "9.0"
      ]
     },
     "execution_count": 34,
     "metadata": {},
     "output_type": "execute_result"
    }
   ],
   "source": [
    "# Media de los elementos del array\n",
    "array1.mean()"
   ]
  },
  {
   "cell_type": "code",
   "execution_count": 35,
   "id": "6dc28ac7",
   "metadata": {},
   "outputs": [
    {
     "data": {
      "text/plain": [
       "72"
      ]
     },
     "execution_count": 35,
     "metadata": {},
     "output_type": "execute_result"
    }
   ],
   "source": [
    "# Suma de los elementos del Array\n",
    "array1.sum()"
   ]
  },
  {
   "cell_type": "markdown",
   "id": "48dbff33",
   "metadata": {},
   "source": [
    "# Funciones universales eficientes proporcionadas por Numpy: **ufunc**"
   ]
  },
  {
   "cell_type": "code",
   "execution_count": 36,
   "id": "f7470ee4",
   "metadata": {},
   "outputs": [
    {
     "data": {
      "text/plain": [
       "array([  4,  16,  36,  64, 100, 144, 196, 256])"
      ]
     },
     "execution_count": 36,
     "metadata": {},
     "output_type": "execute_result"
    }
   ],
   "source": [
    "# Cuadrado de los elementos del array\n",
    "np.square(array1)"
   ]
  },
  {
   "cell_type": "code",
   "execution_count": 37,
   "id": "d844d038",
   "metadata": {},
   "outputs": [
    {
     "data": {
      "text/plain": [
       "array([1.41421356, 2.        , 2.44948974, 2.82842712, 3.16227766,\n",
       "       3.46410162, 3.74165739, 4.        ])"
      ]
     },
     "execution_count": 37,
     "metadata": {},
     "output_type": "execute_result"
    }
   ],
   "source": [
    "# Raiz cuadrada de los elementos del Array\n",
    "np.sqrt(array1)"
   ]
  },
  {
   "cell_type": "code",
   "execution_count": 38,
   "id": "d97b4e79",
   "metadata": {},
   "outputs": [
    {
     "data": {
      "text/plain": [
       "array([7.38905610e+00, 5.45981500e+01, 4.03428793e+02, 2.98095799e+03,\n",
       "       2.20264658e+04, 1.62754791e+05, 1.20260428e+06, 8.88611052e+06])"
      ]
     },
     "execution_count": 38,
     "metadata": {},
     "output_type": "execute_result"
    }
   ],
   "source": [
    "# Exponencial de los elementos del array\n",
    "np.exp(array1)"
   ]
  },
  {
   "cell_type": "code",
   "execution_count": 41,
   "id": "5459d8ca",
   "metadata": {},
   "outputs": [
    {
     "data": {
      "text/plain": [
       "array([0.69314718, 1.38629436, 1.79175947, 2.07944154, 2.30258509,\n",
       "       2.48490665, 2.63905733, 2.77258872])"
      ]
     },
     "execution_count": 41,
     "metadata": {},
     "output_type": "execute_result"
    }
   ],
   "source": [
    "#Logaritmo natural de los elementos del array\n",
    "np.log(array1)"
   ]
  },
  {
   "cell_type": "code",
   "execution_count": null,
   "id": "c703cf08",
   "metadata": {},
   "outputs": [],
   "source": []
  }
 ],
 "metadata": {
  "kernelspec": {
   "display_name": "Python 3 (ipykernel)",
   "language": "python",
   "name": "python3"
  },
  "language_info": {
   "codemirror_mode": {
    "name": "ipython",
    "version": 3
   },
   "file_extension": ".py",
   "mimetype": "text/x-python",
   "name": "python",
   "nbconvert_exporter": "python",
   "pygments_lexer": "ipython3",
   "version": "3.10.11"
  }
 },
 "nbformat": 4,
 "nbformat_minor": 5
}
